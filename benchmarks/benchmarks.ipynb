{
 "cells": [
  {
   "cell_type": "markdown",
   "source": [
    "===========================================================================================================================\n",
    "file:       benchmarks.jpynb\n",
    "version:    21.7.2023\n",
    "title:      BAC2 FH Salzburg: Federated Learning für Predictive Maintenance in Bereichen mit hohen Datenschutzanforderungen\n",
    "author:     Alexander Pachler\n",
    "==========================================================================================================================="
   ],
   "metadata": {
    "collapsed": false
   }
  },
  {
   "cell_type": "markdown",
   "source": [
    "===========================================================================================================================\n",
    "Part 1:     Model based on complete dataset\n",
    "==========================================================================================================================="
   ],
   "metadata": {
    "collapsed": false
   }
  },
  {
   "cell_type": "code",
   "execution_count": null,
   "outputs": [],
   "source": [
    "# Import file\n",
    "import pandas as pd\n",
    "import matplotlib.pyplot as plt\n",
    "df = pd.read_csv('predictive_maintenance.csv')\n",
    "df.head()"
   ],
   "metadata": {
    "collapsed": false
   }
  },
  {
   "cell_type": "code",
   "execution_count": null,
   "outputs": [],
   "source": [
    "# Check dataset\n",
    "df.describe()"
   ],
   "metadata": {
    "collapsed": false
   }
  },
  {
   "cell_type": "code",
   "execution_count": null,
   "outputs": [],
   "source": [
    "# Check dataset\n",
    "df.info()"
   ],
   "metadata": {
    "collapsed": false
   }
  },
  {
   "cell_type": "code",
   "execution_count": null,
   "outputs": [],
   "source": [
    "# Convert/create \"Failure Type Cat\" as category\n",
    "df[\"Failure Type Cat\"] = df[\"Failure Type\"].astype('category').cat.codes\n",
    "df.head()"
   ],
   "metadata": {
    "collapsed": false
   }
  },
  {
   "cell_type": "code",
   "execution_count": null,
   "outputs": [],
   "source": [
    "# Split dataset in training and test part\n",
    "from sklearn.model_selection import train_test_split\n",
    "df_train, df_test = train_test_split(df, train_size=0.8)\n",
    "df_train.shape"
   ],
   "metadata": {
    "collapsed": false
   }
  },
  {
   "cell_type": "code",
   "execution_count": null,
   "outputs": [],
   "source": [
    "df_test.shape"
   ],
   "metadata": {
    "collapsed": false
   }
  },
  {
   "cell_type": "code",
   "execution_count": null,
   "outputs": [],
   "source": [
    "# Check which failure types are present in the dataset\n",
    "grp = df.groupby(\"Failure Type\").count()\n",
    "grp['Target']"
   ],
   "metadata": {
    "collapsed": false
   }
  },
  {
   "cell_type": "code",
   "execution_count": null,
   "outputs": [],
   "source": [
    "# Check which failure types are present in the dataset\n",
    "grp = df.groupby(\"Failure Type Cat\").count()\n",
    "grp['Target']"
   ],
   "metadata": {
    "collapsed": false
   }
  },
  {
   "cell_type": "code",
   "execution_count": null,
   "outputs": [],
   "source": [
    "# Set classifier\n",
    "from sklearn.ensemble import RandomForestClassifier\n",
    "clf = RandomForestClassifier(random_state=0, max_depth=2)"
   ],
   "metadata": {
    "collapsed": false
   }
  },
  {
   "cell_type": "code",
   "execution_count": null,
   "outputs": [],
   "source": [
    "# Train model based on features (X) for output (y)\n",
    "clf.fit(X=df_train[['Air temperature [K]', 'Process temperature [K]', 'Rotational speed [rpm]', 'Torque [Nm]', 'Tool wear [min]']], y=df_train['Failure Type Cat'])"
   ],
   "metadata": {
    "collapsed": false
   }
  },
  {
   "cell_type": "code",
   "execution_count": null,
   "outputs": [],
   "source": [
    "# Predict behaviour based on trained model\n",
    "y_pred = clf.predict(X=df_test[['Air temperature [K]', 'Process temperature [K]', 'Rotational speed [rpm]', 'Torque [Nm]', 'Tool wear [min]']])\n",
    "y_pred[:100]"
   ],
   "metadata": {
    "collapsed": false
   }
  },
  {
   "cell_type": "code",
   "execution_count": null,
   "outputs": [],
   "source": [
    "# Check accuracy of model\n",
    "from sklearn.metrics import accuracy_score\n",
    "acc = accuracy_score(df_test['Failure Type Cat'], y_pred)\n",
    "print(f'The accuracy is {acc*100:.2f}%.')"
   ],
   "metadata": {
    "collapsed": false
   }
  },
  {
   "cell_type": "code",
   "execution_count": null,
   "outputs": [],
   "source": [
    "# Create a confusion matrix\n",
    "from sklearn.metrics import confusion_matrix\n",
    "cm = confusion_matrix(df_test['Failure Type Cat'], y_pred)\n",
    "cm"
   ],
   "metadata": {
    "collapsed": false
   }
  },
  {
   "cell_type": "code",
   "execution_count": null,
   "outputs": [],
   "source": [
    "# Visualize the confusion matrix\n",
    "from sklearn.metrics import ConfusionMatrixDisplay\n",
    "disp = ConfusionMatrixDisplay(confusion_matrix=cm, display_labels=['Heat Dissipation Failure', 'No Failure', 'Overstrain Failure', 'Power Failure', 'Random Failures', 'Tool Wear Failure'])\n",
    "disp.plot(cmap='Greys')\n",
    "plt.xticks(rotation=90)\n",
    "plt.show()"
   ],
   "metadata": {
    "collapsed": false
   }
  },
  {
   "cell_type": "markdown",
   "source": [
    "===========================================================================================================================\n",
    "Part 2:     Model based on complete dataset split in three equal parts, handled trained individually\n",
    "==========================================================================================================================="
   ],
   "metadata": {
    "collapsed": false
   }
  },
  {
   "cell_type": "code",
   "execution_count": null,
   "outputs": [],
   "source": [
    "# Randomly split the dataset in approx. 3 thirds - done only once - therefore commented!\n",
    "# df_part1 = df.sample(frac=1/3, random_state=1)\n",
    "# df_part2 = df.drop(df_part1.index).sample(frac=1/2, random_state=1)\n",
    "# df_part3 = df.drop(df_part1.index).drop(df_part2.index)"
   ],
   "metadata": {
    "collapsed": false
   }
  },
  {
   "cell_type": "code",
   "execution_count": null,
   "outputs": [],
   "source": [
    "# Save splitted datasets to csv (for re-use) - done only once - therefore commented!\n",
    "# df_part1.to_csv('df_part1.csv')\n",
    "# df_part2.to_csv('df_part2.csv')\n",
    "# df_part3.to_csv('df_part3.csv')"
   ],
   "metadata": {
    "collapsed": false
   }
  },
  {
   "cell_type": "code",
   "execution_count": null,
   "outputs": [],
   "source": [
    "# Re-import randomly splitted data frames (equal sources for various tests)\n",
    "df_part1 = pd.read_csv('df_part1.csv')\n",
    "df_part2 = pd.read_csv('df_part2.csv')\n",
    "df_part3 = pd.read_csv('df_part3.csv')"
   ],
   "metadata": {
    "collapsed": false
   }
  },
  {
   "cell_type": "code",
   "execution_count": null,
   "outputs": [],
   "source": [
    "df_part1.head()"
   ],
   "metadata": {
    "collapsed": false
   }
  },
  {
   "cell_type": "code",
   "execution_count": null,
   "outputs": [],
   "source": [
    "df_part2.head()"
   ],
   "metadata": {
    "collapsed": false
   }
  },
  {
   "cell_type": "code",
   "execution_count": null,
   "outputs": [],
   "source": [
    "df_part3.head()"
   ],
   "metadata": {
    "collapsed": false
   }
  },
  {
   "cell_type": "code",
   "execution_count": null,
   "outputs": [],
   "source": [
    "# Split dataset in training and test part\n",
    "df_train1, df_test1 = train_test_split(df_part1, train_size=0.8)\n",
    "df_train1.shape"
   ],
   "metadata": {
    "collapsed": false
   }
  },
  {
   "cell_type": "code",
   "execution_count": null,
   "outputs": [],
   "source": [
    "df_test1.shape"
   ],
   "metadata": {
    "collapsed": false
   }
  },
  {
   "cell_type": "code",
   "execution_count": null,
   "outputs": [],
   "source": [
    "df_train2, df_test2 = train_test_split(df_part2, train_size=0.8)\n",
    "df_train2.shape"
   ],
   "metadata": {
    "collapsed": false
   }
  },
  {
   "cell_type": "code",
   "execution_count": null,
   "outputs": [],
   "source": [
    "df_test2.shape"
   ],
   "metadata": {
    "collapsed": false
   }
  },
  {
   "cell_type": "code",
   "execution_count": null,
   "outputs": [],
   "source": [
    "df_train3, df_test3 = train_test_split(df_part3, train_size=0.8)\n",
    "df_train3.shape"
   ],
   "metadata": {
    "collapsed": false
   }
  },
  {
   "cell_type": "code",
   "execution_count": null,
   "outputs": [],
   "source": [
    "df_test3.shape"
   ],
   "metadata": {
    "collapsed": false
   }
  },
  {
   "cell_type": "code",
   "execution_count": null,
   "outputs": [],
   "source": [
    "# Decision tree classifier\n",
    "clf1 = RandomForestClassifier(random_state=0, max_depth=2)\n",
    "clf2 = RandomForestClassifier(random_state=0, max_depth=2)\n",
    "clf3 = RandomForestClassifier(random_state=0, max_depth=2)"
   ],
   "metadata": {
    "collapsed": false
   }
  },
  {
   "cell_type": "code",
   "execution_count": null,
   "outputs": [],
   "source": [
    "# Train model based on features (X) for output (y) 1/3\n",
    "clf1.fit(X=df_train1[['Air temperature [K]', 'Process temperature [K]', 'Rotational speed [rpm]', 'Torque [Nm]', 'Tool wear [min]']], y=df_train1['Failure Type Cat'])"
   ],
   "metadata": {
    "collapsed": false
   }
  },
  {
   "cell_type": "code",
   "execution_count": null,
   "outputs": [],
   "source": [
    "# Predict behaviour based on trained model 1/3\n",
    "y_pred1 = clf1.predict(X=df_test1[['Air temperature [K]', 'Process temperature [K]', 'Rotational speed [rpm]', 'Torque [Nm]', 'Tool wear [min]']])\n",
    "y_pred1[:100]"
   ],
   "metadata": {
    "collapsed": false
   }
  },
  {
   "cell_type": "code",
   "execution_count": null,
   "outputs": [],
   "source": [
    "# Train model based on features (X) for output (y) 2/3\n",
    "clf2.fit(X=df_train2[['Air temperature [K]', 'Process temperature [K]', 'Rotational speed [rpm]', 'Torque [Nm]', 'Tool wear [min]']], y=df_train2['Failure Type Cat'])"
   ],
   "metadata": {
    "collapsed": false
   }
  },
  {
   "cell_type": "code",
   "execution_count": null,
   "outputs": [],
   "source": [
    "# Predict behaviour based on trained model 2/3\n",
    "y_pred2 = clf2.predict(X=df_test2[['Air temperature [K]', 'Process temperature [K]', 'Rotational speed [rpm]', 'Torque [Nm]', 'Tool wear [min]']])\n",
    "y_pred2[:100]"
   ],
   "metadata": {
    "collapsed": false
   }
  },
  {
   "cell_type": "code",
   "execution_count": null,
   "outputs": [],
   "source": [
    "# Train model based on features (X) for output (y) 3/3\n",
    "clf3.fit(X=df_train3[['Air temperature [K]', 'Process temperature [K]', 'Rotational speed [rpm]', 'Torque [Nm]', 'Tool wear [min]']], y=df_train3['Failure Type Cat'])"
   ],
   "metadata": {
    "collapsed": false
   }
  },
  {
   "cell_type": "code",
   "execution_count": null,
   "outputs": [],
   "source": [
    "# Predict behaviour based on trained model 3/3\n",
    "y_pred3 = clf3.predict(X=df_test3[['Air temperature [K]', 'Process temperature [K]', 'Rotational speed [rpm]', 'Torque [Nm]', 'Tool wear [min]']])\n",
    "y_pred3[:100]"
   ],
   "metadata": {
    "collapsed": false
   }
  },
  {
   "cell_type": "code",
   "execution_count": null,
   "outputs": [],
   "source": [
    "# Create a confusion matrix\n",
    "cm1 = confusion_matrix(df_test1['Failure Type Cat'], y_pred1)\n",
    "cm1"
   ],
   "metadata": {
    "collapsed": false
   }
  },
  {
   "cell_type": "code",
   "execution_count": null,
   "outputs": [],
   "source": [
    "cm2 = confusion_matrix(df_test2['Failure Type Cat'], y_pred2)\n",
    "cm2"
   ],
   "metadata": {
    "collapsed": false
   }
  },
  {
   "cell_type": "code",
   "execution_count": null,
   "outputs": [],
   "source": [
    "cm3 = confusion_matrix(df_test3['Failure Type Cat'], y_pred3)\n",
    "cm3"
   ],
   "metadata": {
    "collapsed": false
   }
  },
  {
   "cell_type": "code",
   "execution_count": null,
   "outputs": [],
   "source": [
    "# Visualize the confusion matrix\n",
    "disp1 = ConfusionMatrixDisplay(confusion_matrix=cm1, display_labels=['Heat Dissipation Failure', 'No Failure', 'Overstrain Failure', 'Power Failure', 'Random Failures', 'Tool Wear Failure'])\n",
    "disp1.plot(cmap='Greys')\n",
    "plt.xticks(rotation=90)\n",
    "plt.show()"
   ],
   "metadata": {
    "collapsed": false
   }
  },
  {
   "cell_type": "code",
   "execution_count": null,
   "outputs": [],
   "source": [
    "disp2 = ConfusionMatrixDisplay(confusion_matrix=cm2, display_labels=['Heat Dissipation Failure', 'No Failure', 'Overstrain Failure', 'Power Failure', 'Random Failures', 'Tool Wear Failure'])\n",
    "disp2.plot(cmap='Greys')\n",
    "plt.xticks(rotation=90)\n",
    "plt.show()"
   ],
   "metadata": {
    "collapsed": false
   }
  },
  {
   "cell_type": "code",
   "execution_count": null,
   "outputs": [],
   "source": [
    "disp3 = ConfusionMatrixDisplay(confusion_matrix=cm3, display_labels=['Heat Dissipation Failure', 'No Failure', 'Overstrain Failure', 'Power Failure', 'Random Failures', 'Tool Wear Failure'])\n",
    "disp3.plot(cmap='Greys')\n",
    "plt.xticks(rotation=90)\n",
    "plt.show()"
   ],
   "metadata": {
    "collapsed": false
   }
  },
  {
   "cell_type": "code",
   "execution_count": null,
   "outputs": [],
   "source": [
    "# Check accuracy of model\n",
    "from sklearn.metrics import accuracy_score\n",
    "acc1 = accuracy_score(df_test1['Failure Type Cat'], y_pred1)\n",
    "acc2 = accuracy_score(df_test2['Failure Type Cat'], y_pred2)\n",
    "acc3 = accuracy_score(df_test3['Failure Type Cat'], y_pred3)\n",
    "print(f'The accuracy of the complete ds is {acc*100:.2f}%.')\n",
    "print(f'The accuracy of part 1 is {acc1*100:.2f}%.')\n",
    "print(f'The accuracy of part 2 is {acc2*100:.2f}%.')\n",
    "print(f'The accuracy of part 3 is {acc3*100:.2f}%.')"
   ],
   "metadata": {
    "collapsed": false
   }
  },
  {
   "cell_type": "code",
   "execution_count": null,
   "outputs": [],
   "source": [],
   "metadata": {
    "collapsed": false
   }
  }
 ],
 "metadata": {
  "kernelspec": {
   "display_name": "Python 3",
   "language": "python",
   "name": "python3"
  },
  "language_info": {
   "codemirror_mode": {
    "name": "ipython",
    "version": 2
   },
   "file_extension": ".py",
   "mimetype": "text/x-python",
   "name": "python",
   "nbconvert_exporter": "python",
   "pygments_lexer": "ipython2",
   "version": "2.7.6"
  }
 },
 "nbformat": 4,
 "nbformat_minor": 0
}
