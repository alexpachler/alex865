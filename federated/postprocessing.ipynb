{
 "cells": [
  {
   "cell_type": "code",
   "execution_count": 60,
   "metadata": {
    "collapsed": true
   },
   "outputs": [],
   "source": [
    "import numpy as np\n",
    "import tensorflow as tf\n",
    "from tensorflow.keras.models import load_model"
   ]
  },
  {
   "cell_type": "code",
   "execution_count": 61,
   "outputs": [
    {
     "data": {
      "text/plain": "<keras.src.engine.functional.Functional at 0x7fce80c87040>"
     },
     "execution_count": 61,
     "metadata": {},
     "output_type": "execute_result"
    }
   ],
   "source": [
    "# Import model from client\n",
    "loaded_model = load_model(\"model1.keras\")\n",
    "loaded_model"
   ],
   "metadata": {
    "collapsed": false
   }
  },
  {
   "cell_type": "code",
   "execution_count": 62,
   "outputs": [
    {
     "name": "stdout",
     "output_type": "stream",
     "text": [
      "Model: \"model\"\n",
      "_________________________________________________________________\n",
      " Layer (type)                Output Shape              Param #   \n",
      "=================================================================\n",
      " input_1 (InputLayer)        [(None, 5)]               0         \n",
      "                                                                 \n",
      " dense (Dense)               (None, 500)               3000      \n",
      "                                                                 \n",
      " dense_1 (Dense)             (None, 250)               125250    \n",
      "                                                                 \n",
      " batch_normalization (Batch  (None, 250)               1000      \n",
      " Normalization)                                                  \n",
      "                                                                 \n",
      " dense_2 (Dense)             (None, 125)               31375     \n",
      "                                                                 \n",
      " dense_3 (Dense)             (None, 1)                 126       \n",
      "                                                                 \n",
      "=================================================================\n",
      "Total params: 160751 (627.93 KB)\n",
      "Trainable params: 160251 (625.98 KB)\n",
      "Non-trainable params: 500 (1.95 KB)\n",
      "_________________________________________________________________\n"
     ]
    }
   ],
   "source": [
    "# Show model details\n",
    "loaded_model.summary()"
   ],
   "metadata": {
    "collapsed": false
   }
  },
  {
   "cell_type": "code",
   "execution_count": 63,
   "outputs": [],
   "source": [
    "# Re-import randomly splitted data frames (equal sources for various tests)\n",
    "import pandas as pd\n",
    "df_part1 = pd.read_csv('df_part1.csv')\n",
    "#df_part1.head()"
   ],
   "metadata": {
    "collapsed": false
   }
  },
  {
   "cell_type": "code",
   "execution_count": 64,
   "outputs": [],
   "source": [
    "# Drop unneccesary colums\n",
    "df_part1 = df_part1.drop(['Failure Type', 'Target', 'Type', 'Product ID', 'UDI', 'Unnamed: 0'], axis=1)\n",
    "#df_part1.head()"
   ],
   "metadata": {
    "collapsed": false
   }
  },
  {
   "cell_type": "code",
   "execution_count": 65,
   "outputs": [],
   "source": [
    "# Split dataset into train and testdata\n",
    "from sklearn.model_selection import train_test_split\n",
    "df_train, df_test = train_test_split(df_part1, train_size=0.8)\n",
    "#df_train.shape"
   ],
   "metadata": {
    "collapsed": false
   }
  },
  {
   "cell_type": "code",
   "execution_count": 66,
   "outputs": [],
   "source": [
    "# Define feature and target names\n",
    "feature_names = ['Air temperature [K]','Process temperature [K]','Rotational speed [rpm]','Torque [Nm]','Tool wear [min]']\n",
    "target_names = ['Failure Type Cat']"
   ],
   "metadata": {
    "collapsed": false
   }
  },
  {
   "cell_type": "code",
   "execution_count": 67,
   "outputs": [],
   "source": [
    "# Convert features for training to tensor\n",
    "features_train = df_train[feature_names]\n",
    "#tf.convert_to_tensor(features_train)"
   ],
   "metadata": {
    "collapsed": false
   }
  },
  {
   "cell_type": "code",
   "execution_count": 68,
   "outputs": [],
   "source": [
    "# Convert features for testing to tensor\n",
    "features_test = df_test[feature_names]\n",
    "#tf.convert_to_tensor(features_test)"
   ],
   "metadata": {
    "collapsed": false
   }
  },
  {
   "cell_type": "code",
   "execution_count": 69,
   "outputs": [],
   "source": [
    "# Convert target for training to tensor\n",
    "target_train = df_train[target_names]\n",
    "#tf.convert_to_tensor(target_train)"
   ],
   "metadata": {
    "collapsed": false
   }
  },
  {
   "cell_type": "code",
   "execution_count": 70,
   "outputs": [],
   "source": [
    "# Convert target for testing to tensor\n",
    "target_test = df_test[target_names]\n",
    "#tf.convert_to_tensor(target_test)"
   ],
   "metadata": {
    "collapsed": false
   }
  },
  {
   "cell_type": "code",
   "execution_count": 79,
   "outputs": [
    {
     "name": "stdout",
     "output_type": "stream",
     "text": [
      "21/21 [==============================] - 0s 2ms/step\n"
     ]
    },
    {
     "data": {
      "text/plain": "array([[0],\n       [0],\n       [0],\n       [0],\n       [0],\n       [0],\n       [0],\n       [0],\n       [0],\n       [0]])"
     },
     "execution_count": 79,
     "metadata": {},
     "output_type": "execute_result"
    }
   ],
   "source": [
    "# Predict behaviour based on trained model\n",
    "import numpy as np\n",
    "target_pred = loaded_model.predict(features_test).astype('int64')\n",
    "target_pred[:10]"
   ],
   "metadata": {
    "collapsed": false
   }
  },
  {
   "cell_type": "code",
   "execution_count": 81,
   "outputs": [
    {
     "name": "stdout",
     "output_type": "stream",
     "text": [
      "The accuracy is 1.65%.\n"
     ]
    }
   ],
   "source": [
    "# Check accuracy of model\n",
    "from sklearn.metrics import accuracy_score\n",
    "acc = accuracy_score(target_test, target_pred)\n",
    "print(f'The accuracy is {acc*100:.2f}%.')"
   ],
   "metadata": {
    "collapsed": false
   }
  },
  {
   "cell_type": "code",
   "execution_count": 82,
   "outputs": [
    {
     "data": {
      "text/plain": "array([[  9,   0,   0,   0,   0,   0],\n       [634,   2,   0,   0,   0,   0],\n       [ 10,   0,   0,   0,   0,   0],\n       [  7,   1,   0,   0,   0,   0],\n       [  1,   0,   0,   0,   0,   0],\n       [  3,   0,   0,   0,   0,   0]])"
     },
     "execution_count": 82,
     "metadata": {},
     "output_type": "execute_result"
    }
   ],
   "source": [
    "# Create a confusion matrix\n",
    "from sklearn.metrics import confusion_matrix\n",
    "cm = confusion_matrix(target_test, target_pred)\n",
    "cm"
   ],
   "metadata": {
    "collapsed": false
   }
  },
  {
   "cell_type": "code",
   "execution_count": 83,
   "outputs": [
    {
     "data": {
      "text/plain": "<Figure size 640x480 with 2 Axes>",
      "image/png": "[encoded data removed]"
     },
     "metadata": {},
     "output_type": "display_data"
    }
   ],
   "source": [
    "# Visualize the confusion matrix\n",
    "import matplotlib.pyplot as plt\n",
    "from sklearn.metrics import ConfusionMatrixDisplay\n",
    "disp = ConfusionMatrixDisplay(confusion_matrix=cm, display_labels=['Heat Dissipation Failure', 'No Failure', 'Overstrain Failure', 'Power Failure', 'Random Failures', 'Tool Wear Failure'])\n",
    "disp.plot(cmap='Greys')\n",
    "plt.xticks(rotation=90)\n",
    "plt.show()"
   ],
   "metadata": {
    "collapsed": false
   }
  },
  {
   "cell_type": "code",
   "execution_count": null,
   "outputs": [],
   "source": [],
   "metadata": {
    "collapsed": false
   }
  }
 ],
 "metadata": {
  "kernelspec": {
   "display_name": "Python 3",
   "language": "python",
   "name": "python3"
  },
  "language_info": {
   "codemirror_mode": {
    "name": "ipython",
    "version": 2
   },
   "file_extension": ".py",
   "mimetype": "text/x-python",
   "name": "python",
   "nbconvert_exporter": "python",
   "pygments_lexer": "ipython2",
   "version": "2.7.6"
  }
 },
 "nbformat": 4,
 "nbformat_minor": 0
}
