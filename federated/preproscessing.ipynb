{
 "cells": [
  {
   "cell_type": "code",
   "execution_count": 1,
   "metadata": {
    "collapsed": true
   },
   "outputs": [],
   "source": [
    "import numpy as np"
   ]
  },
  {
   "cell_type": "code",
   "execution_count": 2,
   "outputs": [],
   "source": [
    "# Re-import randomly splitted data frames (equal sources for various tests)\n",
    "import pandas as pd\n",
    "df_part1 = pd.read_csv('df_part1.csv')\n",
    "#df_part1.head()"
   ],
   "metadata": {
    "collapsed": false
   }
  },
  {
   "cell_type": "code",
   "execution_count": 3,
   "outputs": [],
   "source": [
    "# Drop unneccesary colums\n",
    "df_part1 = df_part1.drop(['Failure Type', 'Target', 'Type', 'Product ID', 'UDI', 'Unnamed: 0'], axis=1)\n",
    "#df_part1.head()"
   ],
   "metadata": {
    "collapsed": false
   }
  },
  {
   "cell_type": "code",
   "execution_count": 4,
   "outputs": [],
   "source": [
    "# Split target values in separate columns\n",
    "df_part1['Heat Dissipation Failure'] = df_part1['Failure Type Cat'].apply(lambda x: 1 if x == 0 else 0)\n",
    "df_part1['No Failure'] = df_part1['Failure Type Cat'].apply(lambda x: 1 if x == 1 else 0)\n",
    "df_part1['Overstrain Failure'] = df_part1['Failure Type Cat'].apply(lambda x: 1 if x == 2 else 0)\n",
    "df_part1['Power Failure'] = df_part1['Failure Type Cat'].apply(lambda x: 1 if x == 3 else 0)\n",
    "df_part1['Random Failures'] = df_part1['Failure Type Cat'].apply(lambda x: 1 if x == 4 else 0)\n",
    "df_part1['Tool Wear Failure'] = df_part1['Failure Type Cat'].apply(lambda x: 1 if x == 5 else 0)\n",
    "#df_part1"
   ],
   "metadata": {
    "collapsed": false
   }
  },
  {
   "cell_type": "code",
   "execution_count": 5,
   "outputs": [],
   "source": [
    "# Split dataset into train and testdata\n",
    "from sklearn.model_selection import train_test_split\n",
    "df_train, df_test = train_test_split(df_part1, train_size=0.8)\n",
    "#df_train.shape"
   ],
   "metadata": {
    "collapsed": false
   }
  },
  {
   "cell_type": "code",
   "execution_count": 6,
   "outputs": [],
   "source": [
    "# Define feature and target names\n",
    "feature_names = ['Air temperature [K]','Process temperature [K]','Rotational speed [rpm]','Torque [Nm]','Tool wear [min]']\n",
    "target_names = ['Heat Dissipation Failure', 'No Failure', 'Overstrain Failure', 'Power Failure', 'Random Failures', 'Tool Wear Failure']"
   ],
   "metadata": {
    "collapsed": false
   }
  },
  {
   "cell_type": "code",
   "execution_count": 7,
   "outputs": [
    {
     "name": "stderr",
     "output_type": "stream",
     "text": [
      "2023-08-23 22:12:58.484846: I tensorflow/core/platform/cpu_feature_guard.cc:182] This TensorFlow binary is optimized to use available CPU instructions in performance-critical operations.\n",
      "To enable the following instructions: AVX2 AVX512F AVX512_VNNI FMA, in other operations, rebuild TensorFlow with the appropriate compiler flags.\n"
     ]
    }
   ],
   "source": [
    "import tensorflow as tf"
   ],
   "metadata": {
    "collapsed": false
   }
  },
  {
   "cell_type": "code",
   "execution_count": 8,
   "outputs": [
    {
     "data": {
      "text/plain": "<tf.Tensor: shape=(2666, 5), dtype=float64, numpy=\narray([[ 298.3,  309.9, 1507. ,   41.6,  112. ],\n       [ 302.2,  311.4, 1987. ,   19.9,  200. ],\n       [ 300.8,  312.5, 1423. ,   47.3,  123. ],\n       ...,\n       [ 302.5,  310.2, 1586. ,   32.2,   64. ],\n       [ 298.9,  309.9, 1645. ,   31.4,   86. ],\n       [ 302.2,  311.1, 1553. ,   34.1,   89. ]])>"
     },
     "execution_count": 8,
     "metadata": {},
     "output_type": "execute_result"
    }
   ],
   "source": [
    "# Convert features for training to tensor\n",
    "features_train = df_train[feature_names]\n",
    "tf.convert_to_tensor(features_train)"
   ],
   "metadata": {
    "collapsed": false
   }
  },
  {
   "cell_type": "code",
   "execution_count": 9,
   "outputs": [
    {
     "data": {
      "text/plain": "<tf.Tensor: shape=(667, 5), dtype=float64, numpy=\narray([[ 303.2,  311.4, 1349. ,   51.1,    9. ],\n       [ 301.3,  310.6, 1527. ,   44. ,  114. ],\n       [ 296.8,  307.9, 1489. ,   33.4,  123. ],\n       ...,\n       [ 299.8,  310.2, 1654. ,   32.7,  159. ],\n       [ 300.4,  310. , 1581. ,   30.3,   42. ],\n       [ 300.8,  312.3, 1435. ,   44.8,  134. ]])>"
     },
     "execution_count": 9,
     "metadata": {},
     "output_type": "execute_result"
    }
   ],
   "source": [
    "# Convert features for testing to tensor\n",
    "features_test = df_test[feature_names]\n",
    "tf.convert_to_tensor(features_test)"
   ],
   "metadata": {
    "collapsed": false
   }
  },
  {
   "cell_type": "code",
   "execution_count": 10,
   "outputs": [],
   "source": [
    "# Convert target for training to tensor\n",
    "target_train = df_train[target_names]\n",
    "#tf.convert_to_tensor(target_train)"
   ],
   "metadata": {
    "collapsed": false
   }
  },
  {
   "cell_type": "code",
   "execution_count": 11,
   "outputs": [],
   "source": [
    "# Convert target for testing to tensor\n",
    "target_test = df_test[target_names]\n",
    "#tf.convert_to_tensor(target_test)"
   ],
   "metadata": {
    "collapsed": false
   }
  },
  {
   "cell_type": "code",
   "execution_count": 12,
   "outputs": [],
   "source": [
    "# Create a model and compile it\n",
    "from tensorflow.keras.layers import Dense,BatchNormalization,Dropout,Input\n",
    "from tensorflow.keras.models import Model\n",
    "from tensorflow.keras.optimizers import Adam\n",
    "from tensorflow.keras.losses import CategoricalCrossentropy\n",
    "from tensorflow.keras.regularizers import l2"
   ],
   "metadata": {
    "collapsed": false
   }
  },
  {
   "cell_type": "code",
   "execution_count": 13,
   "outputs": [],
   "source": [
    "def create_model():\n",
    "    # 5 Features\n",
    "    inputs=Input(5)\n",
    "    # Layer with 500 neurons, rectified linear unit is simple and effective dealing with non-linearities,\n",
    "    # kernel regularizer to prevent overfitting (good on training data, problem with new data)\n",
    "    x=Dense(5000,activation='relu',kernel_regularizer=l2(0.01))(inputs)\n",
    "    x=Dense(2500,activation='relu')(x)\n",
    "    # Batch normalization to stabilize and speed up training\n",
    "    x=BatchNormalization()(x)\n",
    "    x=Dense(1250,activation='relu')(x)\n",
    "    # Sigmoid activation for output nodes with one value zero\n",
    "    x=Dense(6,activation='sigmoid')(x)\n",
    "    model=Model(inputs,x)\n",
    "    # CategoricalCrossentropy for multiclass, metrics accuracy, Adam = optimization algorithm providing:\n",
    "    # adaptive learning, use of momentum and bias correction\n",
    "    model.compile(loss=CategoricalCrossentropy(),metrics=['accuracy'],optimizer=Adam(0.01))\n",
    "    return model\n",
    "\n",
    "model=create_model()"
   ],
   "metadata": {
    "collapsed": false
   }
  },
  {
   "cell_type": "code",
   "execution_count": 14,
   "outputs": [
    {
     "name": "stdout",
     "output_type": "stream",
     "text": [
      "Epoch 1/20\n",
      "27/27 [==============================] - 5s 141ms/step - loss: 9.4459 - accuracy: 0.8713\n",
      "Epoch 2/20\n",
      "27/27 [==============================] - 4s 150ms/step - loss: 5.7248 - accuracy: 0.9287\n",
      "Epoch 3/20\n",
      "27/27 [==============================] - 4s 167ms/step - loss: 2.9834 - accuracy: 0.9295\n",
      "Epoch 4/20\n",
      "27/27 [==============================] - 4s 144ms/step - loss: 1.3867 - accuracy: 0.9565\n",
      "Epoch 5/20\n",
      "27/27 [==============================] - 4s 136ms/step - loss: 0.9430 - accuracy: 0.9557\n",
      "Epoch 6/20\n",
      "27/27 [==============================] - 4s 138ms/step - loss: 0.7991 - accuracy: 0.9587\n",
      "Epoch 7/20\n",
      "27/27 [==============================] - 4s 140ms/step - loss: 0.6683 - accuracy: 0.9625\n",
      "Epoch 8/20\n",
      "27/27 [==============================] - 4s 137ms/step - loss: 0.5996 - accuracy: 0.9625\n",
      "Epoch 9/20\n",
      "27/27 [==============================] - 4s 135ms/step - loss: 0.5465 - accuracy: 0.9632\n",
      "Epoch 10/20\n",
      "27/27 [==============================] - 4s 155ms/step - loss: 0.5141 - accuracy: 0.9629\n",
      "Epoch 11/20\n",
      "27/27 [==============================] - 5s 183ms/step - loss: 0.4644 - accuracy: 0.9617\n",
      "Epoch 12/20\n",
      "27/27 [==============================] - 5s 177ms/step - loss: 0.4349 - accuracy: 0.9625\n",
      "Epoch 13/20\n",
      "27/27 [==============================] - 5s 177ms/step - loss: 0.4557 - accuracy: 0.9584\n",
      "Epoch 14/20\n",
      "27/27 [==============================] - 4s 161ms/step - loss: 0.3996 - accuracy: 0.9632\n",
      "Epoch 15/20\n",
      "27/27 [==============================] - 4s 145ms/step - loss: 0.3691 - accuracy: 0.9602\n",
      "Epoch 16/20\n",
      "27/27 [==============================] - 4s 140ms/step - loss: 0.3859 - accuracy: 0.9614\n",
      "Epoch 17/20\n",
      "27/27 [==============================] - 4s 148ms/step - loss: 0.3508 - accuracy: 0.9621\n",
      "Epoch 18/20\n",
      "27/27 [==============================] - 4s 149ms/step - loss: 0.3278 - accuracy: 0.9602\n",
      "Epoch 19/20\n",
      "27/27 [==============================] - 4s 149ms/step - loss: 0.3034 - accuracy: 0.9621\n",
      "Epoch 20/20\n",
      "27/27 [==============================] - 4s 156ms/step - loss: 0.3128 - accuracy: 0.9602\n"
     ]
    },
    {
     "data": {
      "text/plain": "<keras.src.callbacks.History at 0x7fde4706a5b0>"
     },
     "execution_count": 14,
     "metadata": {},
     "output_type": "execute_result"
    }
   ],
   "source": [
    "model.fit(features_train, target_train, epochs=20, batch_size=100)"
   ],
   "metadata": {
    "collapsed": false
   }
  },
  {
   "cell_type": "code",
   "execution_count": 15,
   "outputs": [
    {
     "name": "stdout",
     "output_type": "stream",
     "text": [
      "21/21 [==============================] - 0s 14ms/step\n"
     ]
    },
    {
     "data": {
      "text/plain": "array([[1.0000000e+00, 1.0000000e+00, 9.6414953e-01, 1.0000000e+00,\n        4.4975779e-17, 2.2990913e-11],\n       [1.0000000e+00, 1.0000000e+00, 9.9997032e-01, 9.9996138e-01,\n        8.0436301e-08, 7.1408985e-09],\n       [1.0000000e+00, 1.0000000e+00, 9.9997830e-01, 9.9997938e-01,\n        6.8583161e-09, 3.6459273e-09],\n       ...,\n       [1.0000000e+00, 1.0000000e+00, 9.9999303e-01, 9.9765217e-01,\n        4.0994465e-04, 7.1695069e-08],\n       [1.0000000e+00, 1.0000000e+00, 9.9924189e-01, 9.9999028e-01,\n        3.7884561e-08, 2.5366749e-09],\n       [1.0000000e+00, 1.0000000e+00, 9.9999171e-01, 9.9998730e-01,\n        2.8267347e-10, 2.1068596e-09]], dtype=float32)"
     },
     "execution_count": 15,
     "metadata": {},
     "output_type": "execute_result"
    }
   ],
   "source": [
    "# Predict behaviour based on trained model\n",
    "import numpy as np\n",
    "target_pred = model.predict(features_test)\n",
    "target_pred#[:10]"
   ],
   "metadata": {
    "collapsed": false
   }
  },
  {
   "cell_type": "code",
   "execution_count": 16,
   "outputs": [
    {
     "data": {
      "text/plain": "       0    1         2         3             4             5\n0    1.0  1.0  0.964150  1.000000  4.497578e-17  2.299091e-11\n1    1.0  1.0  0.999970  0.999961  8.043630e-08  7.140899e-09\n2    1.0  1.0  0.999978  0.999979  6.858316e-09  3.645927e-09\n3    1.0  1.0  0.991001  1.000000  1.818047e-11  2.033514e-10\n4    1.0  1.0  0.999747  0.999998  1.130672e-11  4.483667e-10\n..   ...  ...       ...       ...           ...           ...\n662  1.0  1.0  0.999879  0.999989  8.768057e-09  2.845366e-09\n663  1.0  1.0  0.995630  1.000000  1.223176e-14  6.883800e-11\n664  1.0  1.0  0.999993  0.997652  4.099447e-04  7.169507e-08\n665  1.0  1.0  0.999242  0.999990  3.788456e-08  2.536675e-09\n666  1.0  1.0  0.999992  0.999987  2.826735e-10  2.106860e-09\n\n[667 rows x 6 columns]",
      "text/html": "<div>\n<style scoped>\n    .dataframe tbody tr th:only-of-type {\n        vertical-align: middle;\n    }\n\n    .dataframe tbody tr th {\n        vertical-align: top;\n    }\n\n    .dataframe thead th {\n        text-align: right;\n    }\n</style>\n<table border=\"1\" class=\"dataframe\">\n  <thead>\n    <tr style=\"text-align: right;\">\n      <th></th>\n      <th>0</th>\n      <th>1</th>\n      <th>2</th>\n      <th>3</th>\n      <th>4</th>\n      <th>5</th>\n    </tr>\n  </thead>\n  <tbody>\n    <tr>\n      <th>0</th>\n      <td>1.0</td>\n      <td>1.0</td>\n      <td>0.964150</td>\n      <td>1.000000</td>\n      <td>4.497578e-17</td>\n      <td>2.299091e-11</td>\n    </tr>\n    <tr>\n      <th>1</th>\n      <td>1.0</td>\n      <td>1.0</td>\n      <td>0.999970</td>\n      <td>0.999961</td>\n      <td>8.043630e-08</td>\n      <td>7.140899e-09</td>\n    </tr>\n    <tr>\n      <th>2</th>\n      <td>1.0</td>\n      <td>1.0</td>\n      <td>0.999978</td>\n      <td>0.999979</td>\n      <td>6.858316e-09</td>\n      <td>3.645927e-09</td>\n    </tr>\n    <tr>\n      <th>3</th>\n      <td>1.0</td>\n      <td>1.0</td>\n      <td>0.991001</td>\n      <td>1.000000</td>\n      <td>1.818047e-11</td>\n      <td>2.033514e-10</td>\n    </tr>\n    <tr>\n      <th>4</th>\n      <td>1.0</td>\n      <td>1.0</td>\n      <td>0.999747</td>\n      <td>0.999998</td>\n      <td>1.130672e-11</td>\n      <td>4.483667e-10</td>\n    </tr>\n    <tr>\n      <th>...</th>\n      <td>...</td>\n      <td>...</td>\n      <td>...</td>\n      <td>...</td>\n      <td>...</td>\n      <td>...</td>\n    </tr>\n    <tr>\n      <th>662</th>\n      <td>1.0</td>\n      <td>1.0</td>\n      <td>0.999879</td>\n      <td>0.999989</td>\n      <td>8.768057e-09</td>\n      <td>2.845366e-09</td>\n    </tr>\n    <tr>\n      <th>663</th>\n      <td>1.0</td>\n      <td>1.0</td>\n      <td>0.995630</td>\n      <td>1.000000</td>\n      <td>1.223176e-14</td>\n      <td>6.883800e-11</td>\n    </tr>\n    <tr>\n      <th>664</th>\n      <td>1.0</td>\n      <td>1.0</td>\n      <td>0.999993</td>\n      <td>0.997652</td>\n      <td>4.099447e-04</td>\n      <td>7.169507e-08</td>\n    </tr>\n    <tr>\n      <th>665</th>\n      <td>1.0</td>\n      <td>1.0</td>\n      <td>0.999242</td>\n      <td>0.999990</td>\n      <td>3.788456e-08</td>\n      <td>2.536675e-09</td>\n    </tr>\n    <tr>\n      <th>666</th>\n      <td>1.0</td>\n      <td>1.0</td>\n      <td>0.999992</td>\n      <td>0.999987</td>\n      <td>2.826735e-10</td>\n      <td>2.106860e-09</td>\n    </tr>\n  </tbody>\n</table>\n<p>667 rows × 6 columns</p>\n</div>"
     },
     "execution_count": 16,
     "metadata": {},
     "output_type": "execute_result"
    }
   ],
   "source": [
    "target_pred_final = pd.DataFrame(target_pred)\n",
    "target_pred_final"
   ],
   "metadata": {
    "collapsed": false
   }
  },
  {
   "cell_type": "code",
   "execution_count": 17,
   "outputs": [
    {
     "name": "stdout",
     "output_type": "stream",
     "text": [
      "min:\n",
      "1.0\n",
      "1.0\n",
      "0.3100421726703644\n",
      "0.8045642971992493\n",
      "1.0427076354967398e-22\n",
      "1.0947110405667981e-11\n",
      "max:\n",
      "1.0\n",
      "1.0\n",
      "0.9999998807907104\n",
      "1.0\n",
      "0.9999979734420776\n",
      "1.407296622346621e-05\n"
     ]
    }
   ],
   "source": [
    "print(\"min:\")\n",
    "i = 0\n",
    "for i in target_pred_final:\n",
    "    print(min(target_pred_final[i]))\n",
    "    i+1\n",
    "print(\"max:\")\n",
    "i = 0\n",
    "for i in target_pred_final:\n",
    "    print(max(target_pred_final[i]))\n",
    "    i+1"
   ],
   "metadata": {
    "collapsed": false
   }
  },
  {
   "cell_type": "code",
   "execution_count": 18,
   "outputs": [
    {
     "data": {
      "text/plain": "     0  1  2  3  4  5\n0    1  1  1  1  0  0\n1    1  1  1  1  0  0\n2    1  1  1  1  0  0\n3    1  1  1  1  0  0\n4    1  1  1  1  0  0\n..  .. .. .. .. .. ..\n662  1  1  1  1  0  0\n663  1  1  1  1  0  0\n664  1  1  1  1  0  0\n665  1  1  1  1  0  0\n666  1  1  1  1  0  0\n\n[667 rows x 6 columns]",
      "text/html": "<div>\n<style scoped>\n    .dataframe tbody tr th:only-of-type {\n        vertical-align: middle;\n    }\n\n    .dataframe tbody tr th {\n        vertical-align: top;\n    }\n\n    .dataframe thead th {\n        text-align: right;\n    }\n</style>\n<table border=\"1\" class=\"dataframe\">\n  <thead>\n    <tr style=\"text-align: right;\">\n      <th></th>\n      <th>0</th>\n      <th>1</th>\n      <th>2</th>\n      <th>3</th>\n      <th>4</th>\n      <th>5</th>\n    </tr>\n  </thead>\n  <tbody>\n    <tr>\n      <th>0</th>\n      <td>1</td>\n      <td>1</td>\n      <td>1</td>\n      <td>1</td>\n      <td>0</td>\n      <td>0</td>\n    </tr>\n    <tr>\n      <th>1</th>\n      <td>1</td>\n      <td>1</td>\n      <td>1</td>\n      <td>1</td>\n      <td>0</td>\n      <td>0</td>\n    </tr>\n    <tr>\n      <th>2</th>\n      <td>1</td>\n      <td>1</td>\n      <td>1</td>\n      <td>1</td>\n      <td>0</td>\n      <td>0</td>\n    </tr>\n    <tr>\n      <th>3</th>\n      <td>1</td>\n      <td>1</td>\n      <td>1</td>\n      <td>1</td>\n      <td>0</td>\n      <td>0</td>\n    </tr>\n    <tr>\n      <th>4</th>\n      <td>1</td>\n      <td>1</td>\n      <td>1</td>\n      <td>1</td>\n      <td>0</td>\n      <td>0</td>\n    </tr>\n    <tr>\n      <th>...</th>\n      <td>...</td>\n      <td>...</td>\n      <td>...</td>\n      <td>...</td>\n      <td>...</td>\n      <td>...</td>\n    </tr>\n    <tr>\n      <th>662</th>\n      <td>1</td>\n      <td>1</td>\n      <td>1</td>\n      <td>1</td>\n      <td>0</td>\n      <td>0</td>\n    </tr>\n    <tr>\n      <th>663</th>\n      <td>1</td>\n      <td>1</td>\n      <td>1</td>\n      <td>1</td>\n      <td>0</td>\n      <td>0</td>\n    </tr>\n    <tr>\n      <th>664</th>\n      <td>1</td>\n      <td>1</td>\n      <td>1</td>\n      <td>1</td>\n      <td>0</td>\n      <td>0</td>\n    </tr>\n    <tr>\n      <th>665</th>\n      <td>1</td>\n      <td>1</td>\n      <td>1</td>\n      <td>1</td>\n      <td>0</td>\n      <td>0</td>\n    </tr>\n    <tr>\n      <th>666</th>\n      <td>1</td>\n      <td>1</td>\n      <td>1</td>\n      <td>1</td>\n      <td>0</td>\n      <td>0</td>\n    </tr>\n  </tbody>\n</table>\n<p>667 rows × 6 columns</p>\n</div>"
     },
     "execution_count": 18,
     "metadata": {},
     "output_type": "execute_result"
    }
   ],
   "source": [
    "target_pred_final[0] = target_pred_final[0].apply(lambda x: 0 if x < 0.5 else 1)\n",
    "target_pred_final[1] = target_pred_final[1].apply(lambda x: 0 if x < 0.5 else 1)\n",
    "target_pred_final[2] = target_pred_final[2].apply(lambda x: 0 if x < 0.5 else 1)\n",
    "target_pred_final[3] = target_pred_final[3].apply(lambda x: 0 if x < 0.5 else 1)\n",
    "target_pred_final[4] = target_pred_final[4].apply(lambda x: 0 if x < 0.5 else 1)\n",
    "target_pred_final[5] = target_pred_final[5].apply(lambda x: 0 if x < 0.5 else 1)\n",
    "target_pred_final"
   ],
   "metadata": {
    "collapsed": false
   }
  },
  {
   "cell_type": "code",
   "execution_count": 20,
   "outputs": [
    {
     "name": "stdout",
     "output_type": "stream",
     "text": [
      "min:\n",
      "1\n",
      "1\n",
      "0\n",
      "1\n",
      "0\n",
      "0\n",
      "max:\n",
      "1\n",
      "1\n",
      "1\n",
      "1\n",
      "1\n",
      "0\n"
     ]
    }
   ],
   "source": [
    "print(\"min:\")\n",
    "i = 0\n",
    "for i in target_pred_final:\n",
    "    print(min(target_pred_final[i]))\n",
    "    i+1\n",
    "print(\"max:\")\n",
    "i = 0\n",
    "for i in target_pred_final:\n",
    "    print(max(target_pred_final[i]))\n",
    "    i+1"
   ],
   "metadata": {
    "collapsed": false
   }
  },
  {
   "cell_type": "code",
   "execution_count": null,
   "outputs": [],
   "source": [],
   "metadata": {
    "collapsed": false
   }
  }
 ],
 "metadata": {
  "kernelspec": {
   "display_name": "Python 3",
   "language": "python",
   "name": "python3"
  },
  "language_info": {
   "codemirror_mode": {
    "name": "ipython",
    "version": 2
   },
   "file_extension": ".py",
   "mimetype": "text/x-python",
   "name": "python",
   "nbconvert_exporter": "python",
   "pygments_lexer": "ipython2",
   "version": "2.7.6"
  }
 },
 "nbformat": 4,
 "nbformat_minor": 0
}
